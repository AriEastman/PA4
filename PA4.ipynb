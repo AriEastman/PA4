{
 "cells": [
  {
   "cell_type": "markdown",
   "id": "70c6fe4a",
   "metadata": {},
   "source": [
    "* Ari G. Eastman\n",
    "* Programming Assignment 4, V1\n",
    "* CS150\n",
    "* Computer Programming for the Liberal Arts\n",
    "## Working with If Statements\n",
    "### Goal: To gain experience writing Python programs that use various control structures.\n",
    "##### Instructions: Complete the following activities for this project.\n",
    "##### 1. Create a new Github repository named PA4.\n",
    "##### 2. Using Anaconda and a Jupyter Notebook, create a .ipynb file, name it PA4.ipynb, and complete the following programs (all in the same notebook):"
   ]
  },
  {
   "cell_type": "markdown",
   "id": "3a27080c",
   "metadata": {},
   "source": [
    "##### A. Create a list named grades containing five numerical grades (0-100)."
   ]
  },
  {
   "cell_type": "code",
   "execution_count": 1,
   "id": "d281cc9d",
   "metadata": {},
   "outputs": [
    {
     "name": "stdout",
     "output_type": "stream",
     "text": [
      "[72, 84, 98, 32, 54]\n"
     ]
    }
   ],
   "source": [
    "grades = [72, 84, 98, 32, 54]\n",
    "print(grades)"
   ]
  },
  {
   "cell_type": "markdown",
   "id": "e30a4317",
   "metadata": {},
   "source": [
    "##### B. Calculate the average grade from the list."
   ]
  },
  {
   "cell_type": "code",
   "execution_count": 2,
   "id": "436d193c",
   "metadata": {},
   "outputs": [
    {
     "name": "stdout",
     "output_type": "stream",
     "text": [
      "The average of the students grades is:  68.0\n"
     ]
    }
   ],
   "source": [
    "avg = sum(grades) / len(grades)\n",
    "print(\"The average of the students grades is: \", avg)"
   ]
  },
  {
   "cell_type": "markdown",
   "id": "e1d27c20",
   "metadata": {},
   "source": [
    "##### C. Use an if-else condition to determine the letter grade based on the average as follows: \n",
    "##### 90-100: \"A\" 80-89: \"B\" 70-79: \"C\" 60-69: \"D\" Below 60: \"F\"\n",
    "##### Print the average grade and corresponding letter grade"
   ]
  },
  {
   "cell_type": "code",
   "execution_count": 3,
   "id": "5d2c811c",
   "metadata": {},
   "outputs": [
    {
     "name": "stdout",
     "output_type": "stream",
     "text": [
      "Enter Grade Average: 69\n",
      "The Average is a D\n"
     ]
    }
   ],
   "source": [
    "grade= int(input(\"Enter Grade Average: \"))\n",
    "if (grade>=90 and grade<=100):\n",
    "    print(\"The Average is a A\")\n",
    "elif grade>=80 and grade<=89:\n",
    "    print(\"The Average is a B\")\n",
    "elif grade>=70 and grade<=79:\n",
    "    print(\"The Average is a C\")\n",
    "elif grade>=60 and grade<=69:\n",
    "    print(\"The Average is a D\")\n",
    "else:\n",
    "    print(\"The Average is an F\")"
   ]
  },
  {
   "cell_type": "markdown",
   "id": "f479dd43",
   "metadata": {},
   "source": [
    "### Task 2: Tuple Unpacking"
   ]
  },
  {
   "cell_type": "markdown",
   "id": "5c5011aa",
   "metadata": {},
   "source": [
    "##### A. \n",
    "##### Create a tuple named student with your first name, last name, age, and a subject (in that order)."
   ]
  },
  {
   "cell_type": "code",
   "execution_count": 4,
   "id": "ba9e4408",
   "metadata": {},
   "outputs": [
    {
     "data": {
      "text/plain": [
       "tuple"
      ]
     },
     "execution_count": 4,
     "metadata": {},
     "output_type": "execute_result"
    }
   ],
   "source": [
    "student=(\"Ari\", \"Eastman\", 19, \"Drawing 101\")\n",
    "type(student)"
   ]
  },
  {
   "cell_type": "markdown",
   "id": "c0044235",
   "metadata": {},
   "source": [
    "##### B. Use tuple unpacking and an if-else condition to check if the student's age is above 18."
   ]
  },
  {
   "cell_type": "code",
   "execution_count": 5,
   "id": "625e932c",
   "metadata": {},
   "outputs": [
    {
     "name": "stdout",
     "output_type": "stream",
     "text": [
      "Name: Ari Eastman\n",
      "Age: 19\n",
      "Favorite Subject: Drawing 101\n",
      "This Student Is an adult\n"
     ]
    }
   ],
   "source": [
    "first, last, age, subject=student\n",
    "print(\"Name:\", first, last)\n",
    "print(\"Age:\", age)\n",
    "print(\"Favorite Subject:\", subject)\n",
    "if age>=18:\n",
    "    print(\"This Student Is an adult\")\n",
    "else:\n",
    "    print(\"This student is a minor\")"
   ]
  },
  {
   "cell_type": "markdown",
   "id": "0769ecfe",
   "metadata": {},
   "source": [
    "##### C. If the age is above 18, print a message indicating that the student is an adult, otherwise print a message indicating that the student is a minor."
   ]
  },
  {
   "cell_type": "markdown",
   "id": "4f1a6d05",
   "metadata": {},
   "source": [
    "* EXAMPLE OF STUDENT UNDER 18"
   ]
  },
  {
   "cell_type": "code",
   "execution_count": 6,
   "id": "ec4bf034",
   "metadata": {},
   "outputs": [
    {
     "name": "stdout",
     "output_type": "stream",
     "text": [
      "Name: John Doe\n",
      "Age: 10\n",
      "Favorite Subject: Programming\n",
      "This student is a minor\n"
     ]
    }
   ],
   "source": [
    "student=(\"John\", \"Doe\", 10, \"Programming\")\n",
    "first, last, age, subject=student\n",
    "print(\"Name:\", first, last)\n",
    "print(\"Age:\", age)\n",
    "print(\"Favorite Subject:\", subject)\n",
    "if age>=18:\n",
    "    print(\"This Student Is an adult\")\n",
    "else:\n",
    "    print(\"This student is a minor\")"
   ]
  },
  {
   "cell_type": "markdown",
   "id": "e2e7f0ca",
   "metadata": {},
   "source": [
    "##### Task 3: Month and date \n",
    "##### Write a Python program that will accept a number from 1 to 12 and display the name of the month and days in the month. Consider that the year is a regular year"
   ]
  },
  {
   "cell_type": "code",
   "execution_count": 7,
   "id": "f296be5e",
   "metadata": {},
   "outputs": [
    {
     "name": "stdout",
     "output_type": "stream",
     "text": [
      "Enter 1-12 For Month In Year: 5\n",
      "May: 31 days\n"
     ]
    }
   ],
   "source": [
    "month=int(input(\"Enter 1-12 For Month In Year: \"))\n",
    "if month==1:\n",
    "    print(\"January:\", \"31 days\")\n",
    "if month==2:\n",
    "    print(\"Febuary:\", \"28 days\")\n",
    "if month==3:\n",
    "    print(\"March:\", \"31 days\")\n",
    "if month==4:\n",
    "    print(\"April:\", \"30 days\")\n",
    "if month==5:\n",
    "    print(\"May:\", \"31 days\")\n",
    "if month==6:\n",
    "    print(\"June:\", \"30 days\")\n",
    "if month==7:\n",
    "    print(\"July:\", \"31 days\")\n",
    "if month==8:\n",
    "    print(\"August:\", \"31 days\")\n",
    "if month==9:\n",
    "    print(\"September:\", \"30 days\")\n",
    "if month==10:\n",
    "    print(\"October:\", \"31 days\")\n",
    "if month==11:\n",
    "    print(\"November:\", \"30 days\")\n",
    "if month==12:\n",
    "    print(\"December:\", \"31 days\")\n",
    "else:\n",
    "    (\"Invalid Input Only 12 Months in Year\")"
   ]
  },
  {
   "cell_type": "markdown",
   "id": "93f120aa",
   "metadata": {},
   "source": [
    "##### Task 4: Triangle\n",
    "##### Accept three sides of a triangle and check whether it is an equilateral, isosceles, or scalene triangle."
   ]
  },
  {
   "cell_type": "code",
   "execution_count": 8,
   "id": "54b4ad01",
   "metadata": {},
   "outputs": [
    {
     "name": "stdout",
     "output_type": "stream",
     "text": [
      "Enter Length: 3\n",
      "Enter width: 4\n",
      "Enter breadth: 2\n",
      "This is a Scalene Triangle\n"
     ]
    }
   ],
   "source": [
    "length=int(input(\"Enter Length: \"))\n",
    "width=int(input(\"Enter width: \"))\n",
    "breadth=int(input(\"Enter breadth: \"))\n",
    "if length==width==breadth:\n",
    "    print(\"This is an equilateral Triangle\")\n",
    "elif width==length or breadth==length or width==breadth:\n",
    "    print(\"This is an isoscles triangle\")\n",
    "else:\n",
    "    print(\"This is a Scalene Triangle\")"
   ]
  },
  {
   "cell_type": "markdown",
   "id": "a0cb8673",
   "metadata": {},
   "source": [
    "##### Task 5: List Comprehension and Filtering"
   ]
  },
  {
   "cell_type": "markdown",
   "id": "1861c618",
   "metadata": {},
   "source": [
    "##### A. Create a list of named numbers containing integers from 21 to 40."
   ]
  },
  {
   "cell_type": "code",
   "execution_count": 12,
   "id": "0e953033",
   "metadata": {},
   "outputs": [
    {
     "name": "stdout",
     "output_type": "stream",
     "text": [
      "[21, 22, 23, 24, 25, 26, 27, 28, 29, 30, 31, 32, 33, 34, 35, 36, 37, 38, 39, 40]\n"
     ]
    }
   ],
   "source": [
    "numbers = [21, 22, 23, 24, 25, 26, 27, 28, 29, 30, 31, 32, 33, 34, 35, 36, 37, 38, 39, 40]\n",
    "print(numbers)"
   ]
  },
  {
   "cell_type": "markdown",
   "id": "454c50b0",
   "metadata": {},
   "source": [
    "##### B. Use list comprehension to create a new list named even_squares containing the squares of even numbers from numbers."
   ]
  },
  {
   "cell_type": "code",
   "execution_count": 10,
   "id": "c0b51b49",
   "metadata": {},
   "outputs": [
    {
     "name": "stdout",
     "output_type": "stream",
     "text": [
      "[484, 576, 676, 784, 900, 1024, 1156, 1296, 1444, 1600]\n"
     ]
    }
   ],
   "source": [
    "even_squares=[i**2 for i in range(22,41,2)]\n",
    "print(even_squares)"
   ]
  },
  {
   "cell_type": "markdown",
   "id": "81e7a381",
   "metadata": {},
   "source": [
    "##### C. Use list comprehension to create a new list named odd_cubes containing the cubes of odd numbers from numbers"
   ]
  },
  {
   "cell_type": "code",
   "execution_count": 11,
   "id": "fdd7135c",
   "metadata": {},
   "outputs": [
    {
     "name": "stdout",
     "output_type": "stream",
     "text": [
      "[9261, 12167, 15625, 19683, 24389, 29791, 35937, 42875, 50653, 59319]\n"
     ]
    }
   ],
   "source": [
    "odd_cubes=[i**3 for i in range(21,40,2)]\n",
    "print(odd_cubes)"
   ]
  }
 ],
 "metadata": {
  "kernelspec": {
   "display_name": "Python 3 (ipykernel)",
   "language": "python",
   "name": "python3"
  },
  "language_info": {
   "codemirror_mode": {
    "name": "ipython",
    "version": 3
   },
   "file_extension": ".py",
   "mimetype": "text/x-python",
   "name": "python",
   "nbconvert_exporter": "python",
   "pygments_lexer": "ipython3",
   "version": "3.11.4"
  }
 },
 "nbformat": 4,
 "nbformat_minor": 5
}
